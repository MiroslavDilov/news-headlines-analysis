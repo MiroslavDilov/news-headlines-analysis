{
 "cells": [
  {
   "cell_type": "markdown",
   "id": "4ca2501c",
   "metadata": {},
   "source": [
    "# News Headlines Project "
   ]
  },
  {
   "cell_type": "markdown",
   "id": "4e059aec",
   "metadata": {},
   "source": [
    "## Importing Relevant Libraries "
   ]
  },
  {
   "cell_type": "code",
   "execution_count": 17,
   "id": "fb3f77c0",
   "metadata": {},
   "outputs": [],
   "source": [
    "import pandas as pd\n",
    "from collections import Counter"
   ]
  },
  {
   "cell_type": "markdown",
   "id": "aa97974d",
   "metadata": {},
   "source": [
    "## Loading the data "
   ]
  },
  {
   "cell_type": "code",
   "execution_count": 5,
   "id": "f8383442",
   "metadata": {},
   "outputs": [
    {
     "data": {
      "text/html": [
       "<div>\n",
       "<style scoped>\n",
       "    .dataframe tbody tr th:only-of-type {\n",
       "        vertical-align: middle;\n",
       "    }\n",
       "\n",
       "    .dataframe tbody tr th {\n",
       "        vertical-align: top;\n",
       "    }\n",
       "\n",
       "    .dataframe thead th {\n",
       "        text-align: right;\n",
       "    }\n",
       "</style>\n",
       "<table border=\"1\" class=\"dataframe\">\n",
       "  <thead>\n",
       "    <tr style=\"text-align: right;\">\n",
       "      <th></th>\n",
       "      <th>Unnamed: 0</th>\n",
       "      <th>Headlines</th>\n",
       "      <th>Category</th>\n",
       "    </tr>\n",
       "  </thead>\n",
       "  <tbody>\n",
       "    <tr>\n",
       "      <th>0</th>\n",
       "      <td>0</td>\n",
       "      <td>Спецакция се извършва на територията на Видинс...</td>\n",
       "      <td>Криминално</td>\n",
       "    </tr>\n",
       "    <tr>\n",
       "      <th>1</th>\n",
       "      <td>1</td>\n",
       "      <td>Горя общежитие в Русе, евакуирани са деца</td>\n",
       "      <td>Криминално</td>\n",
       "    </tr>\n",
       "    <tr>\n",
       "      <th>2</th>\n",
       "      <td>2</td>\n",
       "      <td>31 пияни и 20 дрогирани шофьори заловени от по...</td>\n",
       "      <td>Криминално</td>\n",
       "    </tr>\n",
       "    <tr>\n",
       "      <th>3</th>\n",
       "      <td>3</td>\n",
       "      <td>Нелегалните мигранти оставят огромни количеств...</td>\n",
       "      <td>Криминално</td>\n",
       "    </tr>\n",
       "    <tr>\n",
       "      <th>4</th>\n",
       "      <td>4</td>\n",
       "      <td>Арестуваха общински съветник от Кърджали за ку...</td>\n",
       "      <td>Криминално</td>\n",
       "    </tr>\n",
       "  </tbody>\n",
       "</table>\n",
       "</div>"
      ],
      "text/plain": [
       "   Unnamed: 0                                          Headlines    Category\n",
       "0           0  Спецакция се извършва на територията на Видинс...  Криминално\n",
       "1           1          Горя общежитие в Русе, евакуирани са деца  Криминално\n",
       "2           2  31 пияни и 20 дрогирани шофьори заловени от по...  Криминално\n",
       "3           3  Нелегалните мигранти оставят огромни количеств...  Криминално\n",
       "4           4  Арестуваха общински съветник от Кърджали за ку...  Криминално"
      ]
     },
     "execution_count": 5,
     "metadata": {},
     "output_type": "execute_result"
    }
   ],
   "source": [
    "data = pd.read_csv('bg_news_headlines_data.csv')\n",
    "data.head()"
   ]
  },
  {
   "cell_type": "markdown",
   "id": "01ddc5f7",
   "metadata": {},
   "source": [
    "### Checking for duplicates "
   ]
  },
  {
   "cell_type": "code",
   "execution_count": 7,
   "id": "a93840f8",
   "metadata": {},
   "outputs": [
    {
     "data": {
      "text/plain": [
       "False"
      ]
     },
     "execution_count": 7,
     "metadata": {},
     "output_type": "execute_result"
    }
   ],
   "source": [
    "data.duplicated().any()"
   ]
  },
  {
   "cell_type": "markdown",
   "id": "85f74094",
   "metadata": {},
   "source": [
    "### Dropping the index column"
   ]
  },
  {
   "cell_type": "raw",
   "id": "1b41f253",
   "metadata": {},
   "source": [
    "data = data.drop(columns=['Unnamed: 0'], axis=0)"
   ]
  },
  {
   "cell_type": "markdown",
   "id": "ec324be4",
   "metadata": {},
   "source": [
    "### Checking for all of the types of categories  "
   ]
  },
  {
   "cell_type": "code",
   "execution_count": 13,
   "id": "f7aa61de",
   "metadata": {},
   "outputs": [
    {
     "data": {
      "text/plain": [
       "Криминално           4037\n",
       "Икономика            4031\n",
       "Общество             4031\n",
       "Образование          4031\n",
       "Съд и прокуратура    4031\n",
       "Времето              4031\n",
       "Избори               4031\n",
       "Политика             4031\n",
       "Криминално 18+       2699\n",
       "Name: Category, dtype: int64"
      ]
     },
     "execution_count": 13,
     "metadata": {},
     "output_type": "execute_result"
    }
   ],
   "source": [
    "data['Category'].value_counts()"
   ]
  },
  {
   "cell_type": "code",
   "execution_count": 16,
   "id": "9287b3fa",
   "metadata": {},
   "outputs": [
    {
     "data": {
      "text/plain": [
       "(4037, 2)"
      ]
     },
     "execution_count": 16,
     "metadata": {},
     "output_type": "execute_result"
    }
   ],
   "source": [
    "data_crime = data[data['Category'] == 'Криминално']\n",
    "data_crime.shape"
   ]
  },
  {
   "cell_type": "raw",
   "id": "d13e0bda",
   "metadata": {},
   "source": [
    "Counter(' '.join(data_crime['Headlines']).split()).most_common(50)"
   ]
  },
  {
   "cell_type": "code",
   "execution_count": 33,
   "id": "956c0c6f",
   "metadata": {},
   "outputs": [
    {
     "data": {
      "text/plain": [
       "42"
      ]
     },
     "execution_count": 33,
     "metadata": {},
     "output_type": "execute_result"
    }
   ],
   "source": [
    "data_crime['Headlines'].str.count('Враца').sum()"
   ]
  }
 ],
 "metadata": {
  "kernelspec": {
   "display_name": "Python 3 (ipykernel)",
   "language": "python",
   "name": "python3"
  },
  "language_info": {
   "codemirror_mode": {
    "name": "ipython",
    "version": 3
   },
   "file_extension": ".py",
   "mimetype": "text/x-python",
   "name": "python",
   "nbconvert_exporter": "python",
   "pygments_lexer": "ipython3",
   "version": "3.9.12"
  }
 },
 "nbformat": 4,
 "nbformat_minor": 5
}
